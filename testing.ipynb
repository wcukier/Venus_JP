{
 "cells": [
  {
   "cell_type": "code",
   "execution_count": 1,
   "source": [
    "import numpy as np\n",
    "from matplotlib import pyplot as plt\n",
    "from timescale.particles import uniform_sphere\n",
    "import rebound\n",
    "from mpl_toolkits import mplot3d\n",
    "from multiprocessing import Pool\n",
    "from timescale.constants import *\n",
    "from timescale.read_data import load_data, cume_prob\n",
    "from timescale.sim import *\n",
    "plt.rcParams.update({\n",
    "  \"text.usetex\": True,\n",
    "  \"font.family\": \"Helvetica\"\n",
    "})\n",
    "import json\n",
    "with open(\"data/planets.json\") as f:\n",
    "  planets = json.load(f)"
   ],
   "outputs": [],
   "metadata": {}
  },
  {
   "cell_type": "code",
   "execution_count": 35,
   "source": [
    "n = 100\n",
    "\n",
    "states = initial_state(n, 1000, planets=[\"2\", \"3\", \"4\",\"5\", \"6\", \"7\", \"8\"], source_id=\"2\")\n",
    "sim, _ = initialize(1000000, 0)\n",
    "add_particles(sim, 100, 1000, states=states)\n",
    "ps = sim.particles\n",
    "o = sim.calculate_orbits(primary = ps[0])\n",
    "print(o[1].P/SEC_PER_YEAR)\n",
    "fig = rebound.OrbitPlot(sim)\n",
    "len(ps)\n",
    "for p in ps:\n",
    "    print(p.hash)"
   ],
   "outputs": [
    {
     "output_type": "stream",
     "name": "stderr",
     "text": [
      "Simulation Initialized\n",
      "Planets and and 100 particles have been added.\n"
     ]
    },
    {
     "output_type": "stream",
     "name": "stdout",
     "text": [
      "0.999969263358595\n",
      "c_uint(0)\n",
      "c_uint(0)\n",
      "c_uint(0)\n",
      "c_uint(0)\n",
      "c_uint(0)\n",
      "c_uint(0)\n",
      "c_uint(0)\n",
      "c_uint(0)\n",
      "c_uint(4048710375)\n",
      "c_uint(2384444730)\n",
      "c_uint(394494342)\n",
      "c_uint(2665145213)\n",
      "c_uint(4288229510)\n",
      "c_uint(2713348148)\n",
      "c_uint(1849110232)\n",
      "c_uint(2571035570)\n",
      "c_uint(85274738)\n",
      "c_uint(4045249981)\n",
      "c_uint(1279897434)\n",
      "c_uint(2467198915)\n",
      "c_uint(2994598530)\n",
      "c_uint(2411944712)\n",
      "c_uint(1380475608)\n",
      "c_uint(4277287187)\n",
      "c_uint(3594102755)\n",
      "c_uint(1978157060)\n",
      "c_uint(2608811798)\n",
      "c_uint(90959205)\n",
      "c_uint(2349907827)\n",
      "c_uint(614739161)\n",
      "c_uint(1697437506)\n",
      "c_uint(1100653373)\n",
      "c_uint(1053595590)\n",
      "c_uint(1970944392)\n",
      "c_uint(1757585245)\n",
      "c_uint(4271056542)\n",
      "c_uint(3641797436)\n",
      "c_uint(1364910634)\n",
      "c_uint(1317995082)\n",
      "c_uint(1529434478)\n",
      "c_uint(3107916524)\n",
      "c_uint(2761805629)\n",
      "c_uint(3172892324)\n",
      "c_uint(1646740724)\n",
      "c_uint(2788442596)\n",
      "c_uint(3285021309)\n",
      "c_uint(1768794352)\n",
      "c_uint(2374753723)\n",
      "c_uint(2513828564)\n",
      "c_uint(2912079998)\n",
      "c_uint(3680063693)\n",
      "c_uint(1264414776)\n",
      "c_uint(681087341)\n",
      "c_uint(3768095853)\n",
      "c_uint(543430213)\n",
      "c_uint(4198384283)\n",
      "c_uint(3610961680)\n",
      "c_uint(2856022960)\n",
      "c_uint(632126005)\n",
      "c_uint(2143239980)\n",
      "c_uint(551571681)\n",
      "c_uint(3588595697)\n",
      "c_uint(287051207)\n",
      "c_uint(1348840599)\n",
      "c_uint(1908409196)\n",
      "c_uint(3988331142)\n",
      "c_uint(3510135814)\n",
      "c_uint(1924268512)\n",
      "c_uint(22886510)\n",
      "c_uint(1571805003)\n",
      "c_uint(1723803965)\n",
      "c_uint(1378183798)\n",
      "c_uint(1799517153)\n",
      "c_uint(2803623862)\n",
      "c_uint(2664316256)\n",
      "c_uint(307597102)\n",
      "c_uint(3331331695)\n",
      "c_uint(2508889308)\n",
      "c_uint(1064816920)\n",
      "c_uint(2351283225)\n",
      "c_uint(807564609)\n",
      "c_uint(3561460214)\n",
      "c_uint(1965565937)\n",
      "c_uint(3201090570)\n",
      "c_uint(1204971406)\n",
      "c_uint(4077881292)\n",
      "c_uint(1851640971)\n",
      "c_uint(3385996214)\n",
      "c_uint(930951933)\n",
      "c_uint(1391432961)\n",
      "c_uint(1972170390)\n",
      "c_uint(1728607030)\n",
      "c_uint(1398401787)\n",
      "c_uint(2645025904)\n",
      "c_uint(4001854985)\n",
      "c_uint(2934626333)\n",
      "c_uint(2421896480)\n",
      "c_uint(1033891069)\n",
      "c_uint(56586813)\n",
      "c_uint(3919877256)\n",
      "c_uint(3739498132)\n",
      "c_uint(3865376856)\n",
      "c_uint(3852712620)\n",
      "c_uint(1661779588)\n",
      "c_uint(2121695913)\n",
      "c_uint(3735394925)\n",
      "c_uint(2896654372)\n",
      "c_uint(800272890)\n"
     ]
    },
    {
     "output_type": "display_data",
     "data": {
      "image/png": "[encoded data removed]",
      "text/plain": [
       "<Figure size 360x360 with 1 Axes>"
      ]
     },
     "metadata": {
      "needs_background": "light"
     }
    }
   ],
   "metadata": {}
  },
  {
   "cell_type": "code",
   "execution_count": 45,
   "source": [
    "import ctypes\n",
    "print(ctypes.cast(ctypes.c_uint(800272890), ctypes.ARRAY(ctypes.c_char, 8)))"
   ],
   "outputs": [
    {
     "output_type": "error",
     "ename": "ArgumentError",
     "evalue": "argument 1: <class 'TypeError'>: wrong type",
     "traceback": [
      "\u001b[0;31m---------------------------------------------------------------------------\u001b[0m",
      "\u001b[0;31mArgumentError\u001b[0m                             Traceback (most recent call last)",
      "\u001b[0;32m<ipython-input-45-caf97d4c4b8f>\u001b[0m in \u001b[0;36m<module>\u001b[0;34m\u001b[0m\n\u001b[1;32m      1\u001b[0m \u001b[0;32mimport\u001b[0m \u001b[0mctypes\u001b[0m\u001b[0;34m\u001b[0m\u001b[0;34m\u001b[0m\u001b[0m\n\u001b[0;32m----> 2\u001b[0;31m \u001b[0mprint\u001b[0m\u001b[0;34m(\u001b[0m\u001b[0mctypes\u001b[0m\u001b[0;34m.\u001b[0m\u001b[0mcast\u001b[0m\u001b[0;34m(\u001b[0m\u001b[0mctypes\u001b[0m\u001b[0;34m.\u001b[0m\u001b[0mc_uint\u001b[0m\u001b[0;34m(\u001b[0m\u001b[0;36m800272890\u001b[0m\u001b[0;34m)\u001b[0m\u001b[0;34m,\u001b[0m \u001b[0mctypes\u001b[0m\u001b[0;34m.\u001b[0m\u001b[0mARRAY\u001b[0m\u001b[0;34m(\u001b[0m\u001b[0mctypes\u001b[0m\u001b[0;34m.\u001b[0m\u001b[0mc_char\u001b[0m\u001b[0;34m,\u001b[0m \u001b[0;36m8\u001b[0m\u001b[0;34m)\u001b[0m\u001b[0;34m)\u001b[0m\u001b[0;34m)\u001b[0m\u001b[0;34m\u001b[0m\u001b[0;34m\u001b[0m\u001b[0m\n\u001b[0m",
      "\u001b[0;32m~/opt/anaconda3/lib/python3.8/ctypes/__init__.py\u001b[0m in \u001b[0;36mcast\u001b[0;34m(obj, typ)\u001b[0m\n\u001b[1;32m    505\u001b[0m \u001b[0m_cast\u001b[0m \u001b[0;34m=\u001b[0m \u001b[0mPYFUNCTYPE\u001b[0m\u001b[0;34m(\u001b[0m\u001b[0mpy_object\u001b[0m\u001b[0;34m,\u001b[0m \u001b[0mc_void_p\u001b[0m\u001b[0;34m,\u001b[0m \u001b[0mpy_object\u001b[0m\u001b[0;34m,\u001b[0m \u001b[0mpy_object\u001b[0m\u001b[0;34m)\u001b[0m\u001b[0;34m(\u001b[0m\u001b[0m_cast_addr\u001b[0m\u001b[0;34m)\u001b[0m\u001b[0;34m\u001b[0m\u001b[0;34m\u001b[0m\u001b[0m\n\u001b[1;32m    506\u001b[0m \u001b[0;32mdef\u001b[0m \u001b[0mcast\u001b[0m\u001b[0;34m(\u001b[0m\u001b[0mobj\u001b[0m\u001b[0;34m,\u001b[0m \u001b[0mtyp\u001b[0m\u001b[0;34m)\u001b[0m\u001b[0;34m:\u001b[0m\u001b[0;34m\u001b[0m\u001b[0;34m\u001b[0m\u001b[0m\n\u001b[0;32m--> 507\u001b[0;31m     \u001b[0;32mreturn\u001b[0m \u001b[0m_cast\u001b[0m\u001b[0;34m(\u001b[0m\u001b[0mobj\u001b[0m\u001b[0;34m,\u001b[0m \u001b[0mobj\u001b[0m\u001b[0;34m,\u001b[0m \u001b[0mtyp\u001b[0m\u001b[0;34m)\u001b[0m\u001b[0;34m\u001b[0m\u001b[0;34m\u001b[0m\u001b[0m\n\u001b[0m\u001b[1;32m    508\u001b[0m \u001b[0;34m\u001b[0m\u001b[0m\n\u001b[1;32m    509\u001b[0m \u001b[0m_string_at\u001b[0m \u001b[0;34m=\u001b[0m \u001b[0mPYFUNCTYPE\u001b[0m\u001b[0;34m(\u001b[0m\u001b[0mpy_object\u001b[0m\u001b[0;34m,\u001b[0m \u001b[0mc_void_p\u001b[0m\u001b[0;34m,\u001b[0m \u001b[0mc_int\u001b[0m\u001b[0;34m)\u001b[0m\u001b[0;34m(\u001b[0m\u001b[0m_string_at_addr\u001b[0m\u001b[0;34m)\u001b[0m\u001b[0;34m\u001b[0m\u001b[0;34m\u001b[0m\u001b[0m\n",
      "\u001b[0;31mArgumentError\u001b[0m: argument 1: <class 'TypeError'>: wrong type"
     ]
    }
   ],
   "metadata": {}
  },
  {
   "cell_type": "code",
   "execution_count": 7,
   "source": [
    "data = load_data(1000, 99)\n",
    "cume_probs = cume_prob(data)\n",
    "mars_to_earth = np.genfromtxt('data/mars_to_earth.csv',delimiter=',',\n",
    "                              skip_header=1)\n"
   ],
   "outputs": [],
   "metadata": {}
  },
  {
   "cell_type": "code",
   "execution_count": 8,
   "source": [
    "data[:,:,2]"
   ],
   "outputs": [
    {
     "output_type": "execute_result",
     "data": {
      "text/plain": [
       "array([[0.02276944, 0.04337635,        nan, ..., 0.02698093, 0.0401324 ,\n",
       "        0.02454962],\n",
       "       [0.        , 0.        ,        nan, ..., 0.02358002, 0.01717011,\n",
       "        0.03813585],\n",
       "       [0.        , 0.        ,        nan, ..., 0.00070231, 0.02222751,\n",
       "        0.01574256],\n",
       "       ...,\n",
       "       [0.        , 0.        ,        nan, ..., 0.15805062, 0.1297167 ,\n",
       "        0.15289473],\n",
       "       [0.        , 0.        ,        nan, ..., 0.15678107, 0.11152549,\n",
       "        0.15428508],\n",
       "       [0.        , 0.        ,        nan, ..., 0.1341593 , 0.09900092,\n",
       "        0.15015159]])"
      ]
     },
     "metadata": {},
     "execution_count": 8
    }
   ],
   "metadata": {}
  },
  {
   "cell_type": "code",
   "execution_count": 1,
   "source": [
    "t = np.arange(cume_probs.shape[0]) *5000\n",
    "plt.plot(t/1e6, cume_probs*100, label=\"Our Simulation\")\n",
    "plt.plot(mars_to_earth[:,0][mars_to_earth[:,0] < 1], \n",
    "         mars_to_earth[:,1][mars_to_earth[:,0]<1]*100, \n",
    "         label=\"Mileikowsky et al. (2000)\")\n",
    "plt.legend()\n",
    "plt.ylabel(\"Cumulative \\% Delivered\")\n",
    "plt.xlabel(\"Time (Myr)\")\n",
    "plt.savefig(\"figures/mileikowsky_comp.eps\")\n",
    "plt.show()"
   ],
   "outputs": [
    {
     "output_type": "error",
     "ename": "NameError",
     "evalue": "name 'np' is not defined",
     "traceback": [
      "\u001b[0;31m---------------------------------------------------------------------------\u001b[0m",
      "\u001b[0;31mNameError\u001b[0m                                 Traceback (most recent call last)",
      "\u001b[0;32m<ipython-input-1-9e2774613f63>\u001b[0m in \u001b[0;36m<module>\u001b[0;34m\u001b[0m\n\u001b[0;32m----> 1\u001b[0;31m \u001b[0mt\u001b[0m \u001b[0;34m=\u001b[0m \u001b[0mnp\u001b[0m\u001b[0;34m.\u001b[0m\u001b[0marange\u001b[0m\u001b[0;34m(\u001b[0m\u001b[0mcume_probs\u001b[0m\u001b[0;34m.\u001b[0m\u001b[0mshape\u001b[0m\u001b[0;34m[\u001b[0m\u001b[0;36m0\u001b[0m\u001b[0;34m]\u001b[0m\u001b[0;34m)\u001b[0m \u001b[0;34m*\u001b[0m\u001b[0;36m5000\u001b[0m\u001b[0;34m\u001b[0m\u001b[0;34m\u001b[0m\u001b[0m\n\u001b[0m\u001b[1;32m      2\u001b[0m \u001b[0mplt\u001b[0m\u001b[0;34m.\u001b[0m\u001b[0mplot\u001b[0m\u001b[0;34m(\u001b[0m\u001b[0mt\u001b[0m\u001b[0;34m/\u001b[0m\u001b[0;36m1e6\u001b[0m\u001b[0;34m,\u001b[0m \u001b[0mcume_probs\u001b[0m\u001b[0;34m*\u001b[0m\u001b[0;36m100\u001b[0m\u001b[0;34m,\u001b[0m \u001b[0mlabel\u001b[0m\u001b[0;34m=\u001b[0m\u001b[0;34m\"Our Simulation\"\u001b[0m\u001b[0;34m)\u001b[0m\u001b[0;34m\u001b[0m\u001b[0;34m\u001b[0m\u001b[0m\n\u001b[1;32m      3\u001b[0m plt.plot(mars_to_earth[:,0][mars_to_earth[:,0] < 1], \n\u001b[1;32m      4\u001b[0m          \u001b[0mmars_to_earth\u001b[0m\u001b[0;34m[\u001b[0m\u001b[0;34m:\u001b[0m\u001b[0;34m,\u001b[0m\u001b[0;36m1\u001b[0m\u001b[0;34m]\u001b[0m\u001b[0;34m[\u001b[0m\u001b[0mmars_to_earth\u001b[0m\u001b[0;34m[\u001b[0m\u001b[0;34m:\u001b[0m\u001b[0;34m,\u001b[0m\u001b[0;36m0\u001b[0m\u001b[0;34m]\u001b[0m\u001b[0;34m<\u001b[0m\u001b[0;36m1\u001b[0m\u001b[0;34m]\u001b[0m\u001b[0;34m*\u001b[0m\u001b[0;36m100\u001b[0m\u001b[0;34m,\u001b[0m\u001b[0;34m\u001b[0m\u001b[0;34m\u001b[0m\u001b[0m\n\u001b[1;32m      5\u001b[0m          label=\"Mileikowsky et al. (2000)\")\n",
      "\u001b[0;31mNameError\u001b[0m: name 'np' is not defined"
     ]
    }
   ],
   "metadata": {}
  },
  {
   "cell_type": "code",
   "execution_count": 2,
   "source": [
    "from timescale.sim import *\n",
    "sim, _ = initialize(1e6, 300)\n",
    "add_particles(sim, 100, 1000)\n",
    "sim.cite()"
   ],
   "outputs": [
    {
     "output_type": "stream",
     "name": "stderr",
     "text": [
      "Simulation Initialized\n",
      "Planets and and 100 particles have been added.\n"
     ]
    },
    {
     "output_type": "stream",
     "name": "stdout",
     "text": [
      "Simulations in this paper made use of the REBOUND N-body code \\citep{rebound}. The simulations were integrated using the hybrid symplectic MERCURIUS integrator \\citep{reboundmercurius}. \n",
      "\n",
      "\n",
      "@ARTICLE{rebound,\n",
      "       author = {{Rein}, H. and {Liu}, S. -F.},\n",
      "        title = \"{REBOUND: an open-source multi-purpose N-body code for collisional dynamics}\",\n",
      "      journal = {\\aap},\n",
      "     keywords = {methods: numerical, planets and satellites: rings, protoplanetary disks, Astrophysics - Earth and Planetary Astrophysics, Astrophysics - Instrumentation and Methods for Astrophysics, Mathematics - Dynamical Systems, Physics - Computational Physics},\n",
      "         year = 2012,\n",
      "        month = jan,\n",
      "       volume = {537},\n",
      "          eid = {A128},\n",
      "        pages = {A128},\n",
      "          doi = {10.1051/0004-6361/201118085},\n",
      "archivePrefix = {arXiv},\n",
      "       eprint = {1110.4876},\n",
      " primaryClass = {astro-ph.EP},\n",
      "       adsurl = {https://ui.adsabs.harvard.edu/abs/2012A&A...537A.128R},\n",
      "      adsnote = {Provided by the SAO/NASA Astrophysics Data System}\n",
      "}\n",
      "@ARTICLE{reboundmercurius,\n",
      "       author = {{Rein}, Hanno and {Hernandez}, David M. and {Tamayo}, Daniel and\n",
      "         {Brown}, Garett and {Eckels}, Emily and {Holmes}, Emma and\n",
      "         {Lau}, Michelle and {Leblanc}, R{'e}jean and {Silburt}, Ari},\n",
      "        title = \"{Hybrid symplectic integrators for planetary dynamics}\",\n",
      "      journal = {\\mnras},\n",
      "     keywords = {gravitation, methods: numerical, planets and satellites: dynamical evolution and stability, Astrophysics - Earth and Planetary Astrophysics, Astrophysics - Instrumentation and Methods for Astrophysics, Mathematics - Dynamical Systems},\n",
      "         year = 2019,\n",
      "        month = jun,\n",
      "       volume = {485},\n",
      "       number = {4},\n",
      "        pages = {5490-5497},\n",
      "          doi = {10.1093/mnras/stz769},\n",
      "archivePrefix = {arXiv},\n",
      "       eprint = {1903.04972},\n",
      " primaryClass = {astro-ph.EP},\n",
      "       adsurl = {https://ui.adsabs.harvard.edu/abs/2019MNRAS.485.5490R},\n",
      "      adsnote = {Provided by the SAO/NASA Astrophysics Data System}\n",
      "}\n",
      "\n"
     ]
    }
   ],
   "metadata": {}
  },
  {
   "cell_type": "code",
   "execution_count": 3,
   "source": [],
   "outputs": [
    {
     "output_type": "stream",
     "name": "stdout",
     "text": [
      "Simulations in this paper made use of the REBOUND N-body code \\citep{rebound}. The simulations were integrated using the hybrid symplectic MERCURIUS integrator \\citep{reboundmercurius}. \n",
      "\n",
      "\n",
      "@ARTICLE{rebound,\n",
      "       author = {{Rein}, H. and {Liu}, S. -F.},\n",
      "        title = \"{REBOUND: an open-source multi-purpose N-body code for collisional dynamics}\",\n",
      "      journal = {\\aap},\n",
      "     keywords = {methods: numerical, planets and satellites: rings, protoplanetary disks, Astrophysics - Earth and Planetary Astrophysics, Astrophysics - Instrumentation and Methods for Astrophysics, Mathematics - Dynamical Systems, Physics - Computational Physics},\n",
      "         year = 2012,\n",
      "        month = jan,\n",
      "       volume = {537},\n",
      "          eid = {A128},\n",
      "        pages = {A128},\n",
      "          doi = {10.1051/0004-6361/201118085},\n",
      "archivePrefix = {arXiv},\n",
      "       eprint = {1110.4876},\n",
      " primaryClass = {astro-ph.EP},\n",
      "       adsurl = {https://ui.adsabs.harvard.edu/abs/2012A&A...537A.128R},\n",
      "      adsnote = {Provided by the SAO/NASA Astrophysics Data System}\n",
      "}\n",
      "@ARTICLE{reboundmercurius,\n",
      "       author = {{Rein}, Hanno and {Hernandez}, David M. and {Tamayo}, Daniel and\n",
      "         {Brown}, Garett and {Eckels}, Emily and {Holmes}, Emma and\n",
      "         {Lau}, Michelle and {Leblanc}, R{'e}jean and {Silburt}, Ari},\n",
      "        title = \"{Hybrid symplectic integrators for planetary dynamics}\",\n",
      "      journal = {\\mnras},\n",
      "     keywords = {gravitation, methods: numerical, planets and satellites: dynamical evolution and stability, Astrophysics - Earth and Planetary Astrophysics, Astrophysics - Instrumentation and Methods for Astrophysics, Mathematics - Dynamical Systems},\n",
      "         year = 2019,\n",
      "        month = jun,\n",
      "       volume = {485},\n",
      "       number = {4},\n",
      "        pages = {5490-5497},\n",
      "          doi = {10.1093/mnras/stz769},\n",
      "archivePrefix = {arXiv},\n",
      "       eprint = {1903.04972},\n",
      " primaryClass = {astro-ph.EP},\n",
      "       adsurl = {https://ui.adsabs.harvard.edu/abs/2019MNRAS.485.5490R},\n",
      "      adsnote = {Provided by the SAO/NASA Astrophysics Data System}\n",
      "}\n",
      "\n"
     ]
    }
   ],
   "metadata": {}
  },
  {
   "cell_type": "code",
   "execution_count": 1,
   "source": [
    "import numpy as np\n",
    "from launch.flux import *\n",
    "from matplotlib import pyplot as plt\n",
    "from timescale.constants import *"
   ],
   "outputs": [],
   "metadata": {}
  },
  {
   "cell_type": "code",
   "execution_count": 7,
   "source": [
    "t1 = np.linspace(0, 3.98, 4000)\n",
    "y1 = robbins_1km(t1, True)\n",
    "t2 = np.linspace(3.98, 4.5, 4000)\n",
    "\n",
    "y1b = robbins_1km(t2, True)\n",
    "y2 = nesvorny_10km(t2, model=0)\n",
    "y3 = nesvorny_10km(t2, model=1)\n",
    "\n",
    "# hi wolf\n",
    "\n",
    "\n",
    "plt.plot(np.hstack((t1, t2)), np.hstack((y1,y1b)), label = \"robbins\")\n",
    "# plt.show()\n",
    "plt.plot(t2, y2/y2[0]*y1[-1], label=\"REF\")\n",
    "plt.plot(t2, y3/y3[0]*y1[-1], label=\"CASE1B\")\n",
    "plt.yscale('log')\n",
    "\n",
    "plt.legend()\n"
   ],
   "outputs": [
    {
     "output_type": "execute_result",
     "data": {
      "text/plain": [
       "<matplotlib.legend.Legend at 0x7ff555bac6a0>"
      ]
     },
     "metadata": {},
     "execution_count": 7
    },
    {
     "output_type": "display_data",
     "data": {
      "image/png": "[encoded data removed]",
      "text/plain": [
       "<Figure size 432x288 with 1 Axes>"
      ]
     },
     "metadata": {
      "needs_background": "light"
     }
    }
   ],
   "metadata": {}
  },
  {
   "cell_type": "code",
   "execution_count": 6,
   "source": [],
   "outputs": [
    {
     "output_type": "error",
     "ename": "NameError",
     "evalue": "name 'data' is not defined",
     "traceback": [
      "\u001b[0;31m---------------------------------------------------------------------------\u001b[0m",
      "\u001b[0;31mNameError\u001b[0m                                 Traceback (most recent call last)",
      "\u001b[0;32m<ipython-input-6-c5d84736ba45>\u001b[0m in \u001b[0;36m<module>\u001b[0;34m\u001b[0m\n\u001b[0;32m----> 1\u001b[0;31m \u001b[0mdata\u001b[0m\u001b[0;34m\u001b[0m\u001b[0;34m\u001b[0m\u001b[0m\n\u001b[0m",
      "\u001b[0;31mNameError\u001b[0m: name 'data' is not defined"
     ]
    }
   ],
   "metadata": {}
  },
  {
   "cell_type": "code",
   "execution_count": 5,
   "source": [],
   "outputs": [
    {
     "output_type": "execute_result",
     "data": {
      "text/plain": [
       "array([0.0000000e+00, 7.5001875e+04, 1.5000375e+05, ..., 2.9998500e+09,\n",
       "       2.9999250e+09, 3.0000000e+09])"
      ]
     },
     "metadata": {},
     "execution_count": 5
    }
   ],
   "metadata": {}
  },
  {
   "cell_type": "code",
   "execution_count": 2,
   "source": [
    "from timescale.read_data import test_recalculate_data\n",
    "\n",
    "data = load_data(2400, 402)\n",
    "a = test_recalculate_data(data, \"4\")"
   ],
   "outputs": [
    {
     "output_type": "error",
     "ename": "ImportError",
     "evalue": "cannot import name 'test_recalculate_data' from 'timescale.read_data' (/Users/wolfcukier/Dropbox/Research/Venus_JP/timescale/read_data.py)",
     "traceback": [
      "\u001b[0;31m---------------------------------------------------------------------------\u001b[0m",
      "\u001b[0;31mImportError\u001b[0m                               Traceback (most recent call last)",
      "\u001b[0;32m<ipython-input-2-28902bc28b30>\u001b[0m in \u001b[0;36m<module>\u001b[0;34m\u001b[0m\n\u001b[0;32m----> 1\u001b[0;31m \u001b[0;32mfrom\u001b[0m \u001b[0mtimescale\u001b[0m\u001b[0;34m.\u001b[0m\u001b[0mread_data\u001b[0m \u001b[0;32mimport\u001b[0m \u001b[0mtest_recalculate_data\u001b[0m\u001b[0;34m\u001b[0m\u001b[0;34m\u001b[0m\u001b[0m\n\u001b[0m\u001b[1;32m      2\u001b[0m \u001b[0;34m\u001b[0m\u001b[0m\n\u001b[1;32m      3\u001b[0m \u001b[0mdata\u001b[0m \u001b[0;34m=\u001b[0m \u001b[0mload_data\u001b[0m\u001b[0;34m(\u001b[0m\u001b[0;36m2400\u001b[0m\u001b[0;34m,\u001b[0m \u001b[0;36m402\u001b[0m\u001b[0;34m)\u001b[0m\u001b[0;34m\u001b[0m\u001b[0;34m\u001b[0m\u001b[0m\n\u001b[1;32m      4\u001b[0m \u001b[0ma\u001b[0m \u001b[0;34m=\u001b[0m \u001b[0mtest_recalculate_data\u001b[0m\u001b[0;34m(\u001b[0m\u001b[0mdata\u001b[0m\u001b[0;34m,\u001b[0m \u001b[0;34m\"4\"\u001b[0m\u001b[0;34m)\u001b[0m\u001b[0;34m\u001b[0m\u001b[0;34m\u001b[0m\u001b[0m\n",
      "\u001b[0;31mImportError\u001b[0m: cannot import name 'test_recalculate_data' from 'timescale.read_data' (/Users/wolfcukier/Dropbox/Research/Venus_JP/timescale/read_data.py)"
     ]
    }
   ],
   "metadata": {}
  },
  {
   "cell_type": "code",
   "execution_count": null,
   "source": [],
   "outputs": [],
   "metadata": {}
  },
  {
   "cell_type": "code",
   "execution_count": null,
   "source": [],
   "outputs": [],
   "metadata": {}
  },
  {
   "cell_type": "code",
   "execution_count": null,
   "source": [],
   "outputs": [],
   "metadata": {}
  },
  {
   "cell_type": "code",
   "execution_count": null,
   "source": [],
   "outputs": [],
   "metadata": {}
  },
  {
   "cell_type": "code",
   "execution_count": null,
   "source": [],
   "outputs": [],
   "metadata": {}
  },
  {
   "cell_type": "code",
   "execution_count": null,
   "source": [],
   "outputs": [],
   "metadata": {}
  },
  {
   "cell_type": "code",
   "execution_count": 3,
   "source": [
    "import numpy as np\n",
    "np.mean(np.array([1, np.nan]))"
   ],
   "outputs": [
    {
     "output_type": "execute_result",
     "data": {
      "text/plain": [
       "nan"
      ]
     },
     "metadata": {},
     "execution_count": 3
    }
   ],
   "metadata": {}
  },
  {
   "cell_type": "code",
   "execution_count": 2,
   "source": [
    "import json\n",
    "with open(\"data/planets.json\") as f:\n",
    "    planets = json.load(f)\n",
    "    "
   ],
   "outputs": [],
   "metadata": {}
  },
  {
   "cell_type": "code",
   "execution_count": 4,
   "source": [
    "planets['1']"
   ],
   "outputs": [
    {
     "output_type": "execute_result",
     "data": {
      "text/plain": [
       "{'name': 'Mercury',\n",
       " 'mass': 3.30104e+23,\n",
       " 'radius': 2439700.0,\n",
       " 'semi_major': 57909050000.0}"
      ]
     },
     "metadata": {},
     "execution_count": 4
    }
   ],
   "metadata": {}
  },
  {
   "cell_type": "code",
   "execution_count": 5,
   "source": [
    "with open(\"data/planets.json\") as f:\n",
    "    planets = json.load(f)\n",
    "with open(\"config.json\") as f:\n",
    "    config = json.load(f)\n",
    "\n",
    "prob = collision_probability(1, .2, 1, \n",
    "                                YEAR_STEP*SEC_PER_YEAR,\n",
    "                                planets[config[\"target\"]])"
   ],
   "outputs": [
    {
     "output_type": "error",
     "ename": "NameError",
     "evalue": "name 'collision_probability' is not defined",
     "traceback": [
      "\u001b[0;31m---------------------------------------------------------------------------\u001b[0m",
      "\u001b[0;31mNameError\u001b[0m                                 Traceback (most recent call last)",
      "\u001b[0;32m<ipython-input-5-c3ec26b716f4>\u001b[0m in \u001b[0;36m<module>\u001b[0;34m\u001b[0m\n\u001b[1;32m      4\u001b[0m     \u001b[0mconfig\u001b[0m \u001b[0;34m=\u001b[0m \u001b[0mjson\u001b[0m\u001b[0;34m.\u001b[0m\u001b[0mload\u001b[0m\u001b[0;34m(\u001b[0m\u001b[0mf\u001b[0m\u001b[0;34m)\u001b[0m\u001b[0;34m\u001b[0m\u001b[0;34m\u001b[0m\u001b[0m\n\u001b[1;32m      5\u001b[0m \u001b[0;34m\u001b[0m\u001b[0m\n\u001b[0;32m----> 6\u001b[0;31m prob = collision_probability(1, .2, 1, \n\u001b[0m\u001b[1;32m      7\u001b[0m                                 \u001b[0mYEAR_STEP\u001b[0m\u001b[0;34m*\u001b[0m\u001b[0mSEC_PER_YEAR\u001b[0m\u001b[0;34m,\u001b[0m\u001b[0;34m\u001b[0m\u001b[0;34m\u001b[0m\u001b[0m\n\u001b[1;32m      8\u001b[0m                                 planets[config[\"target\"]])\n",
      "\u001b[0;31mNameError\u001b[0m: name 'collision_probability' is not defined"
     ]
    }
   ],
   "metadata": {}
  },
  {
   "cell_type": "code",
   "execution_count": 4,
   "source": [
    "from scipy.integrate import quad\n",
    "import numpy as np\n",
    "\n",
    "def sin(x):\n",
    "    return np.sin(x)\n",
    "\n",
    "q, _ = quad(sin, 0, 1*np.pi)\n",
    "q"
   ],
   "outputs": [
    {
     "output_type": "execute_result",
     "data": {
      "text/plain": [
       "2.0"
      ]
     },
     "metadata": {},
     "execution_count": 4
    }
   ],
   "metadata": {}
  },
  {
   "cell_type": "code",
   "execution_count": null,
   "source": [],
   "outputs": [],
   "metadata": {}
  },
  {
   "cell_type": "code",
   "execution_count": null,
   "source": [],
   "outputs": [],
   "metadata": {}
  }
 ],
 "metadata": {
  "kernelspec": {
   "name": "python3",
   "display_name": "Python 3.8.3 64-bit ('base': conda)"
  },
  "language_info": {
   "codemirror_mode": {
    "name": "ipython",
    "version": 3
   },
   "file_extension": ".py",
   "mimetype": "text/x-python",
   "name": "python",
   "nbconvert_exporter": "python",
   "pygments_lexer": "ipython3",
   "version": "3.8.3"
  },
  "interpreter": {
   "hash": "f2bf16c920055a65bc6f4f6ae352b18f434d115ca8463b3c20448d68127a0e57"
  }
 },
 "nbformat": 4,
 "nbformat_minor": 4
}