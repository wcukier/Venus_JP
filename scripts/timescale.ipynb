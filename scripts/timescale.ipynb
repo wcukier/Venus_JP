{
 "cells": [
  {
   "cell_type": "code",
   "execution_count": 1,
   "source": [
    "import sys\n",
    "import numpy as np\n",
    "from matplotlib import pyplot as plt\n",
    "\n",
    "sys.path.append(\"../\")\n",
    "from timescale.read_data import load_data\n",
    "from timescale.read_data import recalculate_data\n",
    "\n",
    "plt.rcParams.update({\n",
    "  \"text.usetex\": True,\n",
    "  \"font.family\": \"Helvetica\"\n",
    "})\n",
    "def cume_prob(data):\n",
    "  return recalculate_data(data, \"3\")"
   ],
   "outputs": [],
   "metadata": {}
  },
  {
   "cell_type": "code",
   "execution_count": 2,
   "source": [
    "data = load_data(250, 5, path = \"../output/\")\n",
    "cume_probs = cume_prob(data)\n",
    "\n",
    "t = np.arange(cume_probs.shape[0]) *5000\n",
    "plt.plot(t/1e6, cume_probs*100, label=\"$v_\\infty = 0.25$ km/s\")\n",
    "\n",
    "data = load_data(500, 4, path = \"../output/\")\n",
    "cume_probs = cume_prob(data)\n",
    "\n",
    "t = np.arange(cume_probs.shape[0]) *5000\n",
    "plt.plot(t/1e6, cume_probs*100, label=\"$v_\\infty = 0.5$ km/s\")\n",
    "\n",
    "data = load_data(1000, 2, path = \"../output/\")\n",
    "cume_probs = cume_prob(data)\n",
    "\n",
    "t = np.arange(cume_probs.shape[0]) *5000\n",
    "plt.plot(t/1e6, cume_probs*100, label=\"$v_\\infty = 1.0$ km/s\")\n",
    "\n",
    "data = load_data(2000, 3, path = \"../output/\")\n",
    "cume_probs = cume_prob(data)\n",
    "\n",
    "t = np.arange(cume_probs.shape[0]) *5000\n",
    "plt.plot(t/1e6, cume_probs*100, label=\"$v_\\infty = 2.0$ km/s\")\n",
    "\n",
    "data = load_data(3000, 3, path = \"../output/\")\n",
    "cume_probs = cume_prob(data)\n",
    "\n",
    "t = np.arange(cume_probs.shape[0]) *5000\n",
    "plt.plot(t/1e6, cume_probs*100, label=\"$v_\\infty = 3.0$ km/s\")\n",
    "\n",
    "plt.legend()\n",
    "plt.ylabel(\"Cumulative \\% Delivered\")\n",
    "plt.xlabel(\"Time (Myr)\")\n",
    "plt.savefig(\"../figures/timescale.eps\")\n",
    "plt.show()"
   ],
   "outputs": [
    {
     "output_type": "stream",
     "name": "stderr",
     "text": [
      " 16%|█▋        | 33/201 [00:00<00:00, 328.45it/s]"
     ]
    },
    {
     "output_type": "stream",
     "name": "stdout",
     "text": [
      "Double check the version of the collision's module\n"
     ]
    },
    {
     "output_type": "stream",
     "name": "stderr",
     "text": [
      "100%|██████████| 201/201 [00:00<00:00, 283.27it/s]\n",
      " 23%|██▎       | 46/201 [00:00<00:00, 454.43it/s]"
     ]
    },
    {
     "output_type": "stream",
     "name": "stdout",
     "text": [
      "Double check the version of the collision's module\n"
     ]
    },
    {
     "output_type": "stream",
     "name": "stderr",
     "text": [
      "100%|██████████| 201/201 [00:00<00:00, 279.30it/s]\n",
      " 23%|██▎       | 47/201 [00:00<00:00, 457.02it/s]"
     ]
    },
    {
     "output_type": "stream",
     "name": "stdout",
     "text": [
      "Double check the version of the collision's module\n"
     ]
    },
    {
     "output_type": "stream",
     "name": "stderr",
     "text": [
      "100%|██████████| 201/201 [00:00<00:00, 299.29it/s]\n",
      " 34%|███▍      | 69/201 [00:00<00:00, 356.39it/s]"
     ]
    },
    {
     "output_type": "stream",
     "name": "stdout",
     "text": [
      "Double check the version of the collision's module\n"
     ]
    },
    {
     "output_type": "stream",
     "name": "stderr",
     "text": [
      "100%|██████████| 201/201 [00:00<00:00, 256.31it/s]\n",
      " 16%|█▋        | 33/201 [00:00<00:00, 326.32it/s]"
     ]
    },
    {
     "output_type": "stream",
     "name": "stdout",
     "text": [
      "Double check the version of the collision's module\n"
     ]
    },
    {
     "output_type": "stream",
     "name": "stderr",
     "text": [
      "100%|██████████| 201/201 [00:00<00:00, 242.93it/s]\n",
      "The PostScript backend does not support transparency; partially transparent artists will be rendered opaque.\n",
      "The PostScript backend does not support transparency; partially transparent artists will be rendered opaque.\n"
     ]
    },
    {
     "output_type": "display_data",
     "data": {
      "image/png": "[encoded data removed]",
      "text/plain": [
       "<Figure size 432x288 with 1 Axes>"
      ]
     },
     "metadata": {
      "needs_background": "light"
     }
    }
   ],
   "metadata": {}
  },
  {
   "cell_type": "code",
   "execution_count": null,
   "source": [
    "\n"
   ],
   "outputs": [],
   "metadata": {}
  },
  {
   "cell_type": "code",
   "execution_count": 3,
   "source": [
    "from timescale.collisions import collision_probability\n",
    "from timescale.constants import *\n",
    "\n",
    "collision_probability(1.50365400e+11, 8.88493903e-02, 1.27986226e-01, 5000*SEC_PER_YEAR )"
   ],
   "outputs": [
    {
     "output_type": "error",
     "ename": "TypeError",
     "evalue": "collision_probability() missing 1 required positional argument: 'target'",
     "traceback": [
      "\u001b[0;31m---------------------------------------------------------------------------\u001b[0m",
      "\u001b[0;31mTypeError\u001b[0m                                 Traceback (most recent call last)",
      "\u001b[0;32m<ipython-input-3-e4274450759f>\u001b[0m in \u001b[0;36m<module>\u001b[0;34m\u001b[0m\n\u001b[1;32m      2\u001b[0m \u001b[0;32mfrom\u001b[0m \u001b[0mtimescale\u001b[0m\u001b[0;34m.\u001b[0m\u001b[0mconstants\u001b[0m \u001b[0;32mimport\u001b[0m \u001b[0;34m*\u001b[0m\u001b[0;34m\u001b[0m\u001b[0;34m\u001b[0m\u001b[0m\n\u001b[1;32m      3\u001b[0m \u001b[0;34m\u001b[0m\u001b[0m\n\u001b[0;32m----> 4\u001b[0;31m \u001b[0mcollision_probability\u001b[0m\u001b[0;34m(\u001b[0m\u001b[0;36m1.50365400e+11\u001b[0m\u001b[0;34m,\u001b[0m \u001b[0;36m8.88493903e-02\u001b[0m\u001b[0;34m,\u001b[0m \u001b[0;36m1.27986226e-01\u001b[0m\u001b[0;34m,\u001b[0m \u001b[0;36m5000\u001b[0m\u001b[0;34m*\u001b[0m\u001b[0mSEC_PER_YEAR\u001b[0m \u001b[0;34m)\u001b[0m\u001b[0;34m\u001b[0m\u001b[0;34m\u001b[0m\u001b[0m\n\u001b[0m",
      "\u001b[0;31mTypeError\u001b[0m: collision_probability() missing 1 required positional argument: 'target'"
     ]
    }
   ],
   "metadata": {}
  },
  {
   "cell_type": "code",
   "execution_count": null,
   "source": [],
   "outputs": [],
   "metadata": {}
  }
 ],
 "metadata": {
  "orig_nbformat": 4,
  "language_info": {
   "name": "python",
   "version": "3.8.3",
   "mimetype": "text/x-python",
   "codemirror_mode": {
    "name": "ipython",
    "version": 3
   },
   "pygments_lexer": "ipython3",
   "nbconvert_exporter": "python",
   "file_extension": ".py"
  },
  "kernelspec": {
   "name": "python3",
   "display_name": "Python 3.8.3 64-bit ('base': conda)"
  },
  "interpreter": {
   "hash": "f2bf16c920055a65bc6f4f6ae352b18f434d115ca8463b3c20448d68127a0e57"
  }
 },
 "nbformat": 4,
 "nbformat_minor": 2
}