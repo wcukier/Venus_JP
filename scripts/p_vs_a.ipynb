{
 "cells": [
  {
   "cell_type": "code",
   "execution_count": 10,
   "source": [
    "import sys\n",
    "import numpy as np\n",
    "from matplotlib import pyplot as plt\n",
    "from matplotlib import animation\n",
    "\n",
    "sys.path.append(\"../\")\n",
    "from timescale.read_data import load_data, recalculate_slice, collate_data\n",
    "from timescale.constants import *\n",
    "\n",
    "plt.rcParams.update({\n",
    "  \"text.usetex\": True,\n",
    "  \"font.family\": \"Helvetica\",\n",
    "  \"font.size\":    14.0\n",
    "})\n",
    "\n",
    "import json\n",
    "with open(\"../data/planets.json\") as f:\n",
    "  planets = json.load(f)"
   ],
   "outputs": [],
   "metadata": {}
  },
  {
   "cell_type": "code",
   "execution_count": 7,
   "source": [
    "data = load_data(1000, 99, path = \"../output/\")\n",
    "probs = np.array([recalculate_slice(data[i,:,:], \"3\") for i in range(data.shape[0])])"
   ],
   "outputs": [],
   "metadata": {}
  },
  {
   "cell_type": "code",
   "execution_count": null,
   "source": [],
   "outputs": [],
   "metadata": {}
  },
  {
   "cell_type": "code",
   "execution_count": 23,
   "source": [
    "a = []\n",
    "ps = []\n",
    "for t in range(probs.shape[0]):\n",
    "    for p in range(probs.shape[1]):\n",
    "        a.append(data[t,p,0])\n",
    "        ps.append(probs[t,p])\n",
    "        \n",
    "a = np.array(a)\n",
    "ps = np.array(ps)"
   ],
   "outputs": [],
   "metadata": {}
  },
  {
   "cell_type": "code",
   "execution_count": 25,
   "source": [
    "plt.scatter(a/AU, ps)\n",
    "plt.xlim(0, 3)"
   ],
   "outputs": [
    {
     "output_type": "execute_result",
     "data": {
      "text/plain": [
       "(0.0, 3.0)"
      ]
     },
     "metadata": {},
     "execution_count": 25
    },
    {
     "output_type": "display_data",
     "data": {
      "image/png": "[encoded data removed]",
      "text/plain": [
       "<Figure size 432x288 with 1 Axes>"
      ]
     },
     "metadata": {
      "needs_background": "light"
     }
    }
   ],
   "metadata": {}
  },
  {
   "cell_type": "code",
   "execution_count": null,
   "source": [],
   "outputs": [],
   "metadata": {}
  }
 ],
 "metadata": {
  "orig_nbformat": 4,
  "language_info": {
   "name": "python",
   "version": "3.8.3",
   "mimetype": "text/x-python",
   "codemirror_mode": {
    "name": "ipython",
    "version": 3
   },
   "pygments_lexer": "ipython3",
   "nbconvert_exporter": "python",
   "file_extension": ".py"
  },
  "kernelspec": {
   "name": "python3",
   "display_name": "Python 3.8.3 64-bit ('base': conda)"
  },
  "interpreter": {
   "hash": "f2bf16c920055a65bc6f4f6ae352b18f434d115ca8463b3c20448d68127a0e57"
  }
 },
 "nbformat": 4,
 "nbformat_minor": 2
}