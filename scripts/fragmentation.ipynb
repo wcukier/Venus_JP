{
 "cells": [
  {
   "cell_type": "code",
   "execution_count": 1,
   "source": [
    "import numpy as np\n",
    "import fluids\n",
    "from scipy.integrate import solve_ivp\n",
    "from matplotlib import pyplot as plt\n",
    "import json\n",
    "from tqdm import tqdm\n",
    "from scipy.optimize import curve_fit\n",
    "from scipy.interpolate import interp1d\n",
    "from scipy.integrate import quad\n",
    "import sys\n",
    "import numba\n",
    "\n",
    "sys.path.append(\"../\")\n",
    "\n",
    "from launch.flux import *\n",
    "from launch.spalling import *\n",
    "plt.rcParams.update({\n",
    "  \"text.usetex\": True,\n",
    "  \"font.family\": \"Helvetica\",\n",
    "  \"font.size\": 14\n",
    "})"
   ],
   "outputs": [],
   "metadata": {}
  },
  {
   "cell_type": "code",
   "execution_count": 2,
   "source": [
    "vels = np.genfromtxt(\"../data/venus_impact.csv\", delimiter = \",\", skip_header=1) * 1000\n",
    "vs = np.linspace(vels[:,0].min(), vels[:,0].max(), 30) \n",
    "dv = vs[1] -vs[0] \n",
    "vel_distr = interp1d(vels[:,0], vels[:,1])\n",
    "\n",
    "vs_fine = np.linspace(vels[:,0].min(), vels[:,0].max(), 1000) \n",
    "dv = vs_fine[1] -vs_fine[0] \n",
    "cume_vels = np.zeros((vs_fine.shape[0], 2))\n",
    "for i in range(len(vs_fine)-2, 0, -1):\n",
    "    cume_vels[i,0] = vs_fine[i]\n",
    "    cume_vels[i,1] = cume_vels[i+1, 1] + vel_distr(vs_fine[i]) * dv\n",
    "    \n",
    "cume_vels[:, 1] /= cume_vels[:, 1].max()\n",
    "cume_vels[0] = [0, 1]\n",
    "cume_vels[-1] = [100000, 0]\n",
    "\n",
    "cume_vel_distr = interp1d(cume_vels[:,0], cume_vels[:,1])\n",
    "\n",
    "# plt.plot(vs, vel_distr(vs))\n",
    "\n",
    "# T = np.linspace(3.5, 3.9, 100)\n",
    "# dT = (np.max(T) - np.min(T)) / len(T)\n",
    "ms = 10 ** np.linspace(np.log10(5.47e7), 15, 30)\n",
    "dm = ms[1] / ms[0]\n",
    "dm = (ms.max() - ms.min()) / len(ms)\n",
    "thetas = np.linspace(0, 90, 30)\n",
    "\n",
    "VV, MM, TT =  np.meshgrid(vs, ms, thetas, indexing=\"ij\")\n",
    "\n",
    "V_weight = cume_vel_distr(VV) - cume_vel_distr(VV+dv)\n",
    "M_weight = (N_m_total(3.9, 3.4, MM) - N_m_total(3.9, 3.4, MM*dm)) / 30\n"
   ],
   "outputs": [],
   "metadata": {}
  },
  {
   "cell_type": "code",
   "execution_count": 3,
   "source": [
    "scale_height = 8e3\n",
    "yield_stress = 3.8e6\n",
    "pancake_factor = 4\n",
    "rho = 2860\n",
    "rr = (3 * MM / (4 * np.pi * rho))**(1/3)\n",
    "drag_coeff = 1\n",
    "lift_coeff = 1e-3\n",
    "\n",
    "\n",
    "hs = burst_height(scale_height, VV, yield_stress, pancake_factor, TT, rr, MM, drag_coeff)\n",
    "    "
   ],
   "outputs": [
    {
     "output_type": "stream",
     "name": "stderr",
     "text": [
      "../launch/flux.py:99: RuntimeWarning: invalid value encountered in log\n",
      "  * np.log(1 + pancake_factor*np.sin(theta)/(2*scale_height)\n"
     ]
    }
   ],
   "metadata": {}
  },
  {
   "cell_type": "code",
   "execution_count": 4,
   "source": [
    "for i in tqdm(range(len(vs))):\n",
    "    for j in range(len (ms)):\n",
    "        for k in range(len(thetas)):\n",
    "            if hs[i, j ,k] < 0:\n",
    "                args = [ms[j], drag_coeff, rho, lift_coeff, \"3\"]\n",
    "                sol = solve_ivp(atmospheric_effects, [0,40], [1e5, vs[i], thetas[k]], args=args)\n",
    "                z, v, th = sol.y\n",
    "                VV[i, j, k] = v[-1]\n",
    "                TT[i, j, k] = th[-1]\n",
    "            else:\n",
    "                VV[i, j, k] = 0"
   ],
   "outputs": [
    {
     "output_type": "stream",
     "name": "stderr",
     "text": [
      "100%|██████████| 30/30 [00:50<00:00,  1.68s/it]\n"
     ]
    }
   ],
   "metadata": {}
  },
  {
   "cell_type": "code",
   "execution_count": 5,
   "source": [
    "np.save(\"../data/impact_conditions\", np.array([VV, MM, TT]))"
   ],
   "outputs": [],
   "metadata": {}
  },
  {
   "cell_type": "code",
   "execution_count": 6,
   "source": [
    "ls = 10 ** np.linspace(np.log10(.2), np.log10(4), 100)\n",
    "vejs = np.linspace(10.36, 22.5, 100) * 1000\n",
    "\n",
    "LL, VEJ = np.meshgrid(ls, vejs, indexing=\"ij\")\n",
    "NN = LL.copy()"
   ],
   "outputs": [],
   "metadata": {}
  },
  {
   "cell_type": "code",
   "execution_count": 7,
   "source": [
    "P_max = 1e9 #Pa\n",
    "C_T = 6e3 #m/s\n",
    "T = 1e8 #Pa\n",
    "m_w = 9.5\n",
    "\n",
    "n = 0\n",
    "\n",
    "for i in tqdm(range(len(ls))):\n",
    "    for j in range(len(vejs)):\n",
    "        m_ej = mass_ej(P_max, rho, C_T, VV, VEJ[i, j], MM)\n",
    "        mean_s = mean_size(rho, T, rho, VEJ[i, j], VV, MM)     \n",
    "        max_s = max_size(m_w, mean_s)\n",
    "\n",
    "        n_launch = n_launched(m_ej, mean_s, rho)\n",
    "        size_distrib = size_distribution(LL[i,j], max_s, m_w)\n",
    "        NN[i, j] = np.sum((n_launch * size_distrib * V_weight * M_weight)[(n_launch * size_distrib) > 0])   \n",
    "        "
   ],
   "outputs": [
    {
     "output_type": "stream",
     "name": "stderr",
     "text": [
      "  0%|          | 0/100 [00:00<?, ?it/s]../launch/spalling.py:33: RuntimeWarning: divide by zero encountered in true_divide\n",
      "  return (0.75 * (P_max /(rho_T * C_T * v_imp))\n",
      "../launch/spalling.py:58: RuntimeWarning: divide by zero encountered in true_divide\n",
      "  return ((6  * (T**3))\n",
      "../launch/spalling.py:99: RuntimeWarning: invalid value encountered in true_divide\n",
      "  return m_ej / (np.pi/6 * mean_size**3 * rho_T)\n",
      "../launch/spalling.py:119: RuntimeWarning: invalid value encountered in power\n",
      "  return ((1 - (limit_size/max_size))**(m_w)\n",
      "<ipython-input-7-5055b3e91939>:16: RuntimeWarning: invalid value encountered in greater\n",
      "  NN[i, j] = np.sum((n_launch * size_distrib * V_weight * M_weight)[(n_launch * size_distrib) > 0])\n",
      "100%|██████████| 100/100 [00:20<00:00,  4.85it/s]\n"
     ]
    }
   ],
   "metadata": {}
  },
  {
   "cell_type": "code",
   "execution_count": 14,
   "source": [
    "v_esc = 10.36e3\n",
    "VINF = v_inf(VEJ, v_esc)\n",
    "NN[NN<1] = 1\n",
    "plt.contourf(LL, VINF/1000, np.log10(NN), cmap=\"viridis\", levels=12)\n",
    "# plt.xscale(\"log\")\n",
    "cb = plt.colorbar()\n",
    "cb.set_label(r\"Log[Cumulative Number Ejected]\")\n",
    "plt.xlabel(\"Size (m)\")\n",
    "plt.ylabel(r\"$v_{\\infty}$ (km/s)\")\n",
    "plt.savefig(\"../figures/ejected_particles.eps\")"
   ],
   "outputs": [
    {
     "output_type": "display_data",
     "data": {
      "image/png": "[encoded data removed]",
      "text/plain": [
       "<Figure size 432x288 with 2 Axes>"
      ]
     },
     "metadata": {
      "needs_background": "light"
     }
    }
   ],
   "metadata": {}
  },
  {
   "cell_type": "code",
   "execution_count": 44,
   "source": [
    "np.log10((N_m(3.9, 5.47e7) - N_m(3.5, 5.47e7)) * 1e10)"
   ],
   "outputs": [
    {
     "output_type": "execute_result",
     "data": {
      "text/plain": [
       "17.91890849373913"
      ]
     },
     "metadata": {},
     "execution_count": 44
    }
   ],
   "metadata": {}
  },
  {
   "cell_type": "code",
   "execution_count": 2,
   "source": [
    "Ts = np.linspace(0.01, 3.9, 1000)\n",
    "plt.plot(Ts, N_m(Ts, 5.47e7))\n",
    "plt.yscale(\"log\")"
   ],
   "outputs": [
    {
     "output_type": "display_data",
     "data": {
      "image/png": "[encoded data removed]",
      "text/plain": [
       "<Figure size 432x288 with 1 Axes>"
      ]
     },
     "metadata": {
      "needs_background": "light"
     }
    }
   ],
   "metadata": {}
  },
  {
   "cell_type": "code",
   "execution_count": 37,
   "source": [
    "plt.plot(cume_vels[:,0], cume_vels[:,1])"
   ],
   "outputs": [
    {
     "output_type": "execute_result",
     "data": {
      "text/plain": [
       "[<matplotlib.lines.Line2D at 0x7fc6724e9670>]"
      ]
     },
     "metadata": {},
     "execution_count": 37
    },
    {
     "output_type": "display_data",
     "data": {
      "image/png": "[encoded data removed]",
      "text/plain": [
       "<Figure size 432x288 with 1 Axes>"
      ]
     },
     "metadata": {
      "needs_background": "light"
     }
    }
   ],
   "metadata": {}
  },
  {
   "cell_type": "code",
   "execution_count": 38,
   "source": [
    "plt.plot(vs, cume_vel_distr(vs))"
   ],
   "outputs": [
    {
     "output_type": "execute_result",
     "data": {
      "text/plain": [
       "[<matplotlib.lines.Line2D at 0x7fc67264fac0>]"
      ]
     },
     "metadata": {},
     "execution_count": 38
    },
    {
     "output_type": "display_data",
     "data": {
      "image/png": "[encoded data removed]",
      "text/plain": [
       "<Figure size 432x288 with 1 Axes>"
      ]
     },
     "metadata": {
      "needs_background": "light"
     }
    }
   ],
   "metadata": {}
  },
  {
   "cell_type": "code",
   "execution_count": null,
   "source": [],
   "outputs": [],
   "metadata": {}
  }
 ],
 "metadata": {
  "orig_nbformat": 4,
  "language_info": {
   "name": "python",
   "version": "3.8.3",
   "mimetype": "text/x-python",
   "codemirror_mode": {
    "name": "ipython",
    "version": 3
   },
   "pygments_lexer": "ipython3",
   "nbconvert_exporter": "python",
   "file_extension": ".py"
  },
  "kernelspec": {
   "name": "python3",
   "display_name": "Python 3.8.3 64-bit ('base': conda)"
  },
  "interpreter": {
   "hash": "f2bf16c920055a65bc6f4f6ae352b18f434d115ca8463b3c20448d68127a0e57"
  }
 },
 "nbformat": 4,
 "nbformat_minor": 2
}